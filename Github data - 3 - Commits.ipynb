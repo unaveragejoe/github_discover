{
 "cells": [
  {
   "cell_type": "code",
   "execution_count": 1,
   "metadata": {
    "ExecuteTime": {
     "end_time": "2019-03-20T20:03:12.157625Z",
     "start_time": "2019-03-20T20:03:11.454780Z"
    }
   },
   "outputs": [],
   "source": [
    "from github import Github\n",
    "import pickle\n",
    "import numpy as np\n",
    "import pandas as pd\n",
    "import pickle as pickle\n",
    "import pprint\n",
    "\n",
    "from bs4 import BeautifulSoup\n",
    "from fake_useragent import UserAgent\n",
    "import os\n",
    "import requests\n",
    "import time\n",
    "import re\n",
    "import random\n",
    "import json\n",
    "import urllib\n",
    "\n",
    "ua = UserAgent()\n",
    "\n",
    "g = Github(\"\")"
   ]
  },
  {
   "cell_type": "code",
   "execution_count": 2,
   "metadata": {
    "ExecuteTime": {
     "end_time": "2019-03-20T20:03:13.856261Z",
     "start_time": "2019-03-20T20:03:13.388165Z"
    }
   },
   "outputs": [],
   "source": [
    "skl = np.array(pd.read_pickle('skl_topic_repos_raw_data.pkl'))\n",
    "py = np.array(pd.read_pickle('general_python_repos.pkl'))\n",
    "ml = np.array(pd.read_pickle('ml_topic_repos_raw_data.pkl'))\n",
    "dl = np.array(pd.read_pickle('dl_topic_repos_raw_data.pkl'))\n",
    "jn = np.array(pd.read_pickle('jn_topic_repos_raw_data.pkl'))\n",
    "julia = np.array(pd.read_pickle('julia_topic_repos_raw_data.pkl'))\n",
    "kub = np.array(pd.read_pickle('kubernetes_topic_repos_raw_data.pkl'))\n",
    "nlp = np.array(pd.read_pickle('nlp_topic_repos_raw_data.pkl'))"
   ]
  },
  {
   "cell_type": "code",
   "execution_count": null,
   "metadata": {
    "ExecuteTime": {
     "end_time": "2019-03-18T03:59:51.877796Z",
     "start_time": "2019-03-18T03:59:51.812930Z"
    }
   },
   "outputs": [],
   "source": [
    "skl_random_sample = list(np.random.choice(skl, size=200))\n",
    "py_random_sample = list(np.random.choice(py, size=200))\n",
    "ml_random_sample = list(np.random.choice(ml, size=200))\n",
    "dl_random_sample = list(np.random.choice(dl, size=200))\n",
    "jn_random_sample = list(np.random.choice(jn, size=200))\n",
    "julia_random_sample = list(np.random.choice(julia, size=200))\n",
    "kub_random_sample = list(np.random.choice(kub, size=200))\n",
    "nlp_random_sample = list(np.random.choice(nlp, size=200))"
   ]
  },
  {
   "cell_type": "code",
   "execution_count": null,
   "metadata": {
    "ExecuteTime": {
     "end_time": "2019-03-18T03:59:59.197936Z",
     "start_time": "2019-03-18T03:59:52.229Z"
    }
   },
   "outputs": [],
   "source": [
    "sk1_a_rand = np.random.choice(skl_a, size=500)"
   ]
  },
  {
   "cell_type": "code",
   "execution_count": null,
   "metadata": {
    "ExecuteTime": {
     "end_time": "2019-03-18T03:59:59.203539Z",
     "start_time": "2019-03-18T03:59:52.407Z"
    }
   },
   "outputs": [],
   "source": [
    "len(sk1_a_rand)"
   ]
  },
  {
   "cell_type": "code",
   "execution_count": null,
   "metadata": {
    "ExecuteTime": {
     "end_time": "2019-03-18T03:59:59.208982Z",
     "start_time": "2019-03-18T03:59:52.578Z"
    }
   },
   "outputs": [],
   "source": [
    "x = pd.Series(nlp)"
   ]
  },
  {
   "cell_type": "code",
   "execution_count": null,
   "metadata": {
    "ExecuteTime": {
     "end_time": "2019-03-18T03:59:59.214895Z",
     "start_time": "2019-03-18T03:59:52.746Z"
    }
   },
   "outputs": [],
   "source": [
    "ml[0]"
   ]
  },
  {
   "cell_type": "code",
   "execution_count": null,
   "metadata": {
    "ExecuteTime": {
     "end_time": "2019-03-17T19:29:43.964429Z",
     "start_time": "2019-03-17T19:29:43.955315Z"
    }
   },
   "outputs": [],
   "source": [
    "# Check to see if there are any private repos. There are none.\n",
    "sum(x.values == 'private')"
   ]
  },
  {
   "cell_type": "code",
   "execution_count": null,
   "metadata": {
    "ExecuteTime": {
     "end_time": "2019-03-17T19:29:44.469460Z",
     "start_time": "2019-03-17T19:29:44.174Z"
    }
   },
   "outputs": [],
   "source": [
    "skl[:2]"
   ]
  },
  {
   "cell_type": "code",
   "execution_count": null,
   "metadata": {
    "ExecuteTime": {
     "end_time": "2019-03-17T19:29:44.473985Z",
     "start_time": "2019-03-17T19:29:44.329Z"
    }
   },
   "outputs": [],
   "source": [
    "https://api.github.com/users/scikit-learn-contrib/repos"
   ]
  },
  {
   "cell_type": "code",
   "execution_count": null,
   "metadata": {
    "ExecuteTime": {
     "end_time": "2019-03-19T16:06:29.581153Z",
     "start_time": "2019-03-19T16:06:26.501Z"
    }
   },
   "outputs": [],
   "source": [
    "# rescrape sklearn repos\n",
    "all_repos_concat = (\n",
    "                         skl_random_sample \n",
    "                     +   py_random_sample \n",
    "                     +   ml_random_sample \n",
    "                     +   dl_random_sample \n",
    "                     +   jn_random_sample \n",
    "                     +   julia_random_sample \n",
    "                     +   kub_random_sample \n",
    "                     +   nlp_random_sample    )"
   ]
  },
  {
   "cell_type": "code",
   "execution_count": 3,
   "metadata": {
    "ExecuteTime": {
     "end_time": "2019-03-20T20:03:29.413040Z",
     "start_time": "2019-03-20T20:03:29.406386Z"
    }
   },
   "outputs": [],
   "source": [
    "# rescrape sklearn repos\n",
    "all_repos_concat_all = (\n",
    "                         list(skl)\n",
    "                     +   list(py)\n",
    "                     +   list(ml) \n",
    "                     +   list(dl) \n",
    "                     +   list(jn) \n",
    "                     +   list(julia) \n",
    "                     +   list(kub) \n",
    "                     +   list(nlp)    )"
   ]
  },
  {
   "cell_type": "code",
   "execution_count": null,
   "metadata": {
    "ExecuteTime": {
     "end_time": "2019-03-18T21:17:17.908598Z",
     "start_time": "2019-03-18T21:17:17.348220Z"
    }
   },
   "outputs": [],
   "source": [
    "with open('all_repos_concat_all.pkl', 'wb') as f:\n",
    "    pickle.dump(all_repos_concat_all, f)"
   ]
  },
  {
   "cell_type": "code",
   "execution_count": null,
   "metadata": {
    "ExecuteTime": {
     "end_time": "2019-03-18T04:06:34.214016Z",
     "start_time": "2019-03-18T04:06:34.204260Z"
    }
   },
   "outputs": [],
   "source": [
    "lst_of_repo_ids_and_commit_urls = []\n",
    "\n",
    "for idx, repo in enumerate(all_repos_concat):\n",
    "    lst_of_repo_ids_and_commit_urls.append([repo['id'], repo['commits_url'][:-6]])"
   ]
  },
  {
   "cell_type": "code",
   "execution_count": null,
   "metadata": {
    "ExecuteTime": {
     "end_time": "2019-03-18T04:06:11.353516Z",
     "start_time": "2019-03-18T04:06:11.347279Z"
    }
   },
   "outputs": [],
   "source": [
    "len(all_repos_concat)"
   ]
  },
  {
   "cell_type": "code",
   "execution_count": null,
   "metadata": {
    "ExecuteTime": {
     "end_time": "2019-03-18T04:00:20.054729Z",
     "start_time": "2019-03-18T04:00:16.541Z"
    }
   },
   "outputs": [],
   "source": [
    "# len(lst_of_repo_ids_and_commit_urls)\n",
    "lst_of_repo_ids_and_commit_urls[0]"
   ]
  },
  {
   "cell_type": "code",
   "execution_count": null,
   "metadata": {
    "ExecuteTime": {
     "end_time": "2019-03-18T04:07:07.070172Z",
     "start_time": "2019-03-18T04:07:07.062894Z"
    }
   },
   "outputs": [],
   "source": [
    "with open('lst_of_repo_ids_and_commit_urls.pkl', 'wb') as f:\n",
    "    pickle.dump(lst_of_repo_ids_and_commit_urls, f)"
   ]
  },
  {
   "cell_type": "code",
   "execution_count": null,
   "metadata": {
    "ExecuteTime": {
     "end_time": "2019-03-18T04:06:19.083068Z",
     "start_time": "2019-03-18T04:06:19.076479Z"
    },
    "scrolled": true
   },
   "outputs": [],
   "source": [
    "lst_of_repo_ids_and_commit_urls[:5]"
   ]
  },
  {
   "cell_type": "code",
   "execution_count": null,
   "metadata": {
    "ExecuteTime": {
     "end_time": "2019-03-18T04:06:43.225322Z",
     "start_time": "2019-03-18T04:06:43.220271Z"
    }
   },
   "outputs": [],
   "source": [
    "len(lst_of_repo_ids_and_commit_urls)"
   ]
  },
  {
   "cell_type": "code",
   "execution_count": null,
   "metadata": {
    "ExecuteTime": {
     "end_time": "2019-03-17T19:30:08.471700Z",
     "start_time": "2019-03-17T19:29:45.699678Z"
    }
   },
   "outputs": [],
   "source": [
    "requests.get('https://api.github.com/rate_limit').json()"
   ]
  },
  {
   "cell_type": "code",
   "execution_count": 1,
   "metadata": {
    "ExecuteTime": {
     "end_time": "2019-06-29T22:40:37.764205Z",
     "start_time": "2019-06-29T22:40:37.760098Z"
    }
   },
   "outputs": [],
   "source": [
    "import time as time\n",
    "import math as math\n",
    "\n",
    "now = time.time()"
   ]
  },
  {
   "cell_type": "code",
   "execution_count": null,
   "metadata": {
    "ExecuteTime": {
     "end_time": "2019-03-17T19:30:08.876271Z",
     "start_time": "2019-03-17T19:29:46.066Z"
    }
   },
   "outputs": [],
   "source": [
    "math.ceil(time.time())"
   ]
  },
  {
   "cell_type": "code",
   "execution_count": null,
   "metadata": {
    "ExecuteTime": {
     "end_time": "2019-03-17T19:30:08.880432Z",
     "start_time": "2019-03-17T19:29:46.254Z"
    }
   },
   "outputs": [],
   "source": [
    "def get_commit_data(commit_link_list):\n",
    "    commit_dict = {}\n",
    "    \n",
    "    z = requests.get('https://api.github.com/rate_limit').json()\n",
    "    reset_time = z['resources']['core']['reset']\n",
    "        \n",
    "    for idx, repo in enumerate(commit_link_list):\n",
    "\n",
    "        if reset_time >= math.ceil(time.time()):\n",
    "            time.sleep(60)\n",
    "            z = requests.get('https://api.github.com/rate_limit').json()\n",
    "            reset_time = z['resources']['core']['reset']\n",
    "        \n",
    "        headers = {'User-Agent': ua.random}\n",
    "  \n",
    "        response = requests.get(repo[1], headers)\n",
    "\n",
    "        commits_json = json.loads(response.text)\n",
    "        commit_dict[idx] = { 'id': repo[0],\n",
    "                             'commits': commits_json }\n",
    "        \n",
    "        z = requests.get('https://api.github.com/rate_limit').json()\n",
    "        reset_time = z['resources']['core']['reset']\n",
    "\n",
    "#         print(repo[0], '\\n')\n",
    "#         print(repo[1], '\\n')\n",
    "        print(str(commit_dict)[:20])\n",
    "\n",
    "#         print(str(idx / len(commit_link_list)) + '%' + '\\n')\n",
    "#         print(commit_dict[idx])\n",
    "    return commit_dict"
   ]
  },
  {
   "cell_type": "code",
   "execution_count": null,
   "metadata": {
    "ExecuteTime": {
     "end_time": "2019-03-17T19:30:08.884485Z",
     "start_time": "2019-03-17T19:29:46.452Z"
    }
   },
   "outputs": [],
   "source": [
    "def get_commit_data(commit_link_list):\n",
    "    commit_dict = {}\n",
    "    \n",
    "    z = requests.get('https://api.github.com/rate_limit').json()\n",
    "    reset_time = z['resources']['core']['reset']\n",
    "        \n",
    "    for idx, repo in enumerate(commit_link_list):\n",
    "\n",
    "        if reset_time >= math.ceil(time.time()):\n",
    "            time.sleep(60)\n",
    "            z = requests.get('https://api.github.com/rate_limit').json()\n",
    "            reset_time = z['resources']['core']['reset']\n",
    "        \n",
    "        headers = {'User-Agent': ua.random}\n",
    "  \n",
    "        response = requests.get(repo[1], headers)\n",
    "\n",
    "        commits_json = json.loads(response.text)\n",
    "        commit_dict[idx] = { 'id': repo[0],\n",
    "                             'commits': commits_json }\n",
    "        \n",
    "        z = requests.get('https://api.github.com/rate_limit').json()\n",
    "        reset_time = z['resources']['core']['reset']\n",
    "\n",
    "        print(str(idx / len(commit_link_list)) + '%' + '\\n')\n",
    "\n",
    "        print(commit_dict[idx])\n",
    "    return commit_dict"
   ]
  },
  {
   "cell_type": "code",
   "execution_count": null,
   "metadata": {
    "ExecuteTime": {
     "end_time": "2019-03-17T19:30:08.887753Z",
     "start_time": "2019-03-17T19:29:46.711Z"
    }
   },
   "outputs": [],
   "source": [
    "x = get_commit_data(lst_of_repo_ids_and_commit_urls[:3])"
   ]
  },
  {
   "cell_type": "code",
   "execution_count": null,
   "metadata": {
    "ExecuteTime": {
     "end_time": "2019-03-17T19:31:10.495007Z",
     "start_time": "2019-03-17T19:31:10.403021Z"
    }
   },
   "outputs": [],
   "source": [
    "x"
   ]
  },
  {
   "cell_type": "code",
   "execution_count": null,
   "metadata": {
    "ExecuteTime": {
     "end_time": "2019-03-17T19:30:59.667983Z",
     "start_time": "2019-03-17T19:30:59.662215Z"
    }
   },
   "outputs": [],
   "source": [
    "len(lst_of_repo_ids_and_commit_urls)"
   ]
  },
  {
   "cell_type": "code",
   "execution_count": null,
   "metadata": {
    "ExecuteTime": {
     "end_time": "2019-03-17T19:31:29.180397Z",
     "start_time": "2019-03-17T19:31:29.165894Z"
    }
   },
   "outputs": [],
   "source": [
    "len(x)"
   ]
  },
  {
   "cell_type": "code",
   "execution_count": 4,
   "metadata": {
    "ExecuteTime": {
     "end_time": "2019-03-20T20:03:41.585529Z",
     "start_time": "2019-03-20T20:03:41.569995Z"
    }
   },
   "outputs": [
    {
     "data": {
      "text/plain": [
       "7014"
      ]
     },
     "execution_count": 4,
     "metadata": {},
     "output_type": "execute_result"
    }
   ],
   "source": [
    "len(all_repos_concat_all)"
   ]
  },
  {
   "cell_type": "code",
   "execution_count": 5,
   "metadata": {
    "ExecuteTime": {
     "end_time": "2019-03-20T20:03:50.600900Z",
     "start_time": "2019-03-20T20:03:50.590825Z"
    }
   },
   "outputs": [
    {
     "data": {
      "text/plain": [
       "{'id': 843222,\n",
       " 'node_id': 'MDEwOlJlcG9zaXRvcnk4NDMyMjI=',\n",
       " 'name': 'scikit-learn',\n",
       " 'full_name': 'scikit-learn/scikit-learn',\n",
       " 'private': False,\n",
       " 'owner': {'login': 'scikit-learn',\n",
       "  'id': 365630,\n",
       "  'node_id': 'MDEyOk9yZ2FuaXphdGlvbjM2NTYzMA==',\n",
       "  'avatar_url': 'https://avatars2.githubusercontent.com/u/365630?v=4',\n",
       "  'gravatar_id': '',\n",
       "  'url': 'https://api.github.com/users/scikit-learn',\n",
       "  'html_url': 'https://github.com/scikit-learn',\n",
       "  'followers_url': 'https://api.github.com/users/scikit-learn/followers',\n",
       "  'following_url': 'https://api.github.com/users/scikit-learn/following{/other_user}',\n",
       "  'gists_url': 'https://api.github.com/users/scikit-learn/gists{/gist_id}',\n",
       "  'starred_url': 'https://api.github.com/users/scikit-learn/starred{/owner}{/repo}',\n",
       "  'subscriptions_url': 'https://api.github.com/users/scikit-learn/subscriptions',\n",
       "  'organizations_url': 'https://api.github.com/users/scikit-learn/orgs',\n",
       "  'repos_url': 'https://api.github.com/users/scikit-learn/repos',\n",
       "  'events_url': 'https://api.github.com/users/scikit-learn/events{/privacy}',\n",
       "  'received_events_url': 'https://api.github.com/users/scikit-learn/received_events',\n",
       "  'type': 'Organization',\n",
       "  'site_admin': False},\n",
       " 'html_url': 'https://github.com/scikit-learn/scikit-learn',\n",
       " 'description': 'scikit-learn: machine learning in Python',\n",
       " 'fork': False,\n",
       " 'url': 'https://api.github.com/repos/scikit-learn/scikit-learn',\n",
       " 'forks_url': 'https://api.github.com/repos/scikit-learn/scikit-learn/forks',\n",
       " 'keys_url': 'https://api.github.com/repos/scikit-learn/scikit-learn/keys{/key_id}',\n",
       " 'collaborators_url': 'https://api.github.com/repos/scikit-learn/scikit-learn/collaborators{/collaborator}',\n",
       " 'teams_url': 'https://api.github.com/repos/scikit-learn/scikit-learn/teams',\n",
       " 'hooks_url': 'https://api.github.com/repos/scikit-learn/scikit-learn/hooks',\n",
       " 'issue_events_url': 'https://api.github.com/repos/scikit-learn/scikit-learn/issues/events{/number}',\n",
       " 'events_url': 'https://api.github.com/repos/scikit-learn/scikit-learn/events',\n",
       " 'assignees_url': 'https://api.github.com/repos/scikit-learn/scikit-learn/assignees{/user}',\n",
       " 'branches_url': 'https://api.github.com/repos/scikit-learn/scikit-learn/branches{/branch}',\n",
       " 'tags_url': 'https://api.github.com/repos/scikit-learn/scikit-learn/tags',\n",
       " 'blobs_url': 'https://api.github.com/repos/scikit-learn/scikit-learn/git/blobs{/sha}',\n",
       " 'git_tags_url': 'https://api.github.com/repos/scikit-learn/scikit-learn/git/tags{/sha}',\n",
       " 'git_refs_url': 'https://api.github.com/repos/scikit-learn/scikit-learn/git/refs{/sha}',\n",
       " 'trees_url': 'https://api.github.com/repos/scikit-learn/scikit-learn/git/trees{/sha}',\n",
       " 'statuses_url': 'https://api.github.com/repos/scikit-learn/scikit-learn/statuses/{sha}',\n",
       " 'languages_url': 'https://api.github.com/repos/scikit-learn/scikit-learn/languages',\n",
       " 'stargazers_url': 'https://api.github.com/repos/scikit-learn/scikit-learn/stargazers',\n",
       " 'contributors_url': 'https://api.github.com/repos/scikit-learn/scikit-learn/contributors',\n",
       " 'subscribers_url': 'https://api.github.com/repos/scikit-learn/scikit-learn/subscribers',\n",
       " 'subscription_url': 'https://api.github.com/repos/scikit-learn/scikit-learn/subscription',\n",
       " 'commits_url': 'https://api.github.com/repos/scikit-learn/scikit-learn/commits{/sha}',\n",
       " 'git_commits_url': 'https://api.github.com/repos/scikit-learn/scikit-learn/git/commits{/sha}',\n",
       " 'comments_url': 'https://api.github.com/repos/scikit-learn/scikit-learn/comments{/number}',\n",
       " 'issue_comment_url': 'https://api.github.com/repos/scikit-learn/scikit-learn/issues/comments{/number}',\n",
       " 'contents_url': 'https://api.github.com/repos/scikit-learn/scikit-learn/contents/{+path}',\n",
       " 'compare_url': 'https://api.github.com/repos/scikit-learn/scikit-learn/compare/{base}...{head}',\n",
       " 'merges_url': 'https://api.github.com/repos/scikit-learn/scikit-learn/merges',\n",
       " 'archive_url': 'https://api.github.com/repos/scikit-learn/scikit-learn/{archive_format}{/ref}',\n",
       " 'downloads_url': 'https://api.github.com/repos/scikit-learn/scikit-learn/downloads',\n",
       " 'issues_url': 'https://api.github.com/repos/scikit-learn/scikit-learn/issues{/number}',\n",
       " 'pulls_url': 'https://api.github.com/repos/scikit-learn/scikit-learn/pulls{/number}',\n",
       " 'milestones_url': 'https://api.github.com/repos/scikit-learn/scikit-learn/milestones{/number}',\n",
       " 'notifications_url': 'https://api.github.com/repos/scikit-learn/scikit-learn/notifications{?since,all,participating}',\n",
       " 'labels_url': 'https://api.github.com/repos/scikit-learn/scikit-learn/labels{/name}',\n",
       " 'releases_url': 'https://api.github.com/repos/scikit-learn/scikit-learn/releases{/id}',\n",
       " 'deployments_url': 'https://api.github.com/repos/scikit-learn/scikit-learn/deployments',\n",
       " 'created_at': '2010-08-17T09:43:38Z',\n",
       " 'updated_at': '2019-03-17T17:07:47Z',\n",
       " 'pushed_at': '2019-03-17T18:21:20Z',\n",
       " 'git_url': 'git://github.com/scikit-learn/scikit-learn.git',\n",
       " 'ssh_url': 'git@github.com:scikit-learn/scikit-learn.git',\n",
       " 'clone_url': 'https://github.com/scikit-learn/scikit-learn.git',\n",
       " 'svn_url': 'https://github.com/scikit-learn/scikit-learn',\n",
       " 'homepage': 'http://scikit-learn.org',\n",
       " 'size': 101480,\n",
       " 'stargazers_count': 33879,\n",
       " 'watchers_count': 33879,\n",
       " 'language': 'Python',\n",
       " 'has_issues': True,\n",
       " 'has_projects': True,\n",
       " 'has_downloads': True,\n",
       " 'has_wiki': True,\n",
       " 'has_pages': False,\n",
       " 'forks_count': 16621,\n",
       " 'mirror_url': None,\n",
       " 'archived': False,\n",
       " 'open_issues_count': 1905,\n",
       " 'license': {'key': 'other',\n",
       "  'name': 'Other',\n",
       "  'spdx_id': 'NOASSERTION',\n",
       "  'url': None,\n",
       "  'node_id': 'MDc6TGljZW5zZTA='},\n",
       " 'forks': 16621,\n",
       " 'open_issues': 1905,\n",
       " 'watchers': 33879,\n",
       " 'default_branch': 'master',\n",
       " 'permissions': {'admin': False, 'push': False, 'pull': True},\n",
       " 'organization': {'login': 'scikit-learn',\n",
       "  'id': 365630,\n",
       "  'node_id': 'MDEyOk9yZ2FuaXphdGlvbjM2NTYzMA==',\n",
       "  'avatar_url': 'https://avatars2.githubusercontent.com/u/365630?v=4',\n",
       "  'gravatar_id': '',\n",
       "  'url': 'https://api.github.com/users/scikit-learn',\n",
       "  'html_url': 'https://github.com/scikit-learn',\n",
       "  'followers_url': 'https://api.github.com/users/scikit-learn/followers',\n",
       "  'following_url': 'https://api.github.com/users/scikit-learn/following{/other_user}',\n",
       "  'gists_url': 'https://api.github.com/users/scikit-learn/gists{/gist_id}',\n",
       "  'starred_url': 'https://api.github.com/users/scikit-learn/starred{/owner}{/repo}',\n",
       "  'subscriptions_url': 'https://api.github.com/users/scikit-learn/subscriptions',\n",
       "  'organizations_url': 'https://api.github.com/users/scikit-learn/orgs',\n",
       "  'repos_url': 'https://api.github.com/users/scikit-learn/repos',\n",
       "  'events_url': 'https://api.github.com/users/scikit-learn/events{/privacy}',\n",
       "  'received_events_url': 'https://api.github.com/users/scikit-learn/received_events',\n",
       "  'type': 'Organization',\n",
       "  'site_admin': False},\n",
       " 'network_count': 16621,\n",
       " 'subscribers_count': 2215}"
      ]
     },
     "execution_count": 5,
     "metadata": {},
     "output_type": "execute_result"
    }
   ],
   "source": [
    "all_repos_concat_all[0]"
   ]
  },
  {
   "cell_type": "code",
   "execution_count": null,
   "metadata": {
    "ExecuteTime": {
     "end_time": "2019-03-18T21:18:27.518165Z",
     "start_time": "2019-03-18T21:18:23.151Z"
    }
   },
   "outputs": [],
   "source": [
    "repo_descriptions = []\n",
    "for repo in all_repos_concat_all:\n",
    "    repo_descriptions.append((repo['id'], repo['description']))"
   ]
  },
  {
   "cell_type": "code",
   "execution_count": null,
   "metadata": {
    "ExecuteTime": {
     "end_time": "2019-03-18T21:18:30.194900Z",
     "start_time": "2019-03-18T21:18:30.186425Z"
    }
   },
   "outputs": [],
   "source": [
    "repo_descriptions[0]"
   ]
  },
  {
   "cell_type": "code",
   "execution_count": null,
   "metadata": {
    "ExecuteTime": {
     "end_time": "2019-03-18T21:19:35.311055Z",
     "start_time": "2019-03-18T21:19:35.305284Z"
    }
   },
   "outputs": [],
   "source": [
    "len(repo_descriptions)"
   ]
  },
  {
   "cell_type": "code",
   "execution_count": null,
   "metadata": {
    "ExecuteTime": {
     "end_time": "2019-03-18T21:20:23.794462Z",
     "start_time": "2019-03-18T21:20:23.780259Z"
    }
   },
   "outputs": [],
   "source": [
    "repo_descripions_df = pd.DataFrame(repo_descriptions)"
   ]
  },
  {
   "cell_type": "code",
   "execution_count": null,
   "metadata": {
    "ExecuteTime": {
     "end_time": "2019-03-18T21:20:31.744527Z",
     "start_time": "2019-03-18T21:20:24.246Z"
    }
   },
   "outputs": [],
   "source": [
    "repo_descripions_df.columns = ['id', 'description']"
   ]
  },
  {
   "cell_type": "code",
   "execution_count": null,
   "metadata": {
    "ExecuteTime": {
     "end_time": "2019-03-18T21:20:33.262288Z",
     "start_time": "2019-03-18T21:20:33.255990Z"
    }
   },
   "outputs": [],
   "source": [
    "len(repo_descripions_df)"
   ]
  },
  {
   "cell_type": "code",
   "execution_count": null,
   "metadata": {
    "ExecuteTime": {
     "end_time": "2019-03-18T21:20:50.655706Z",
     "start_time": "2019-03-18T21:20:50.644992Z"
    }
   },
   "outputs": [],
   "source": [
    "repo_descripions_df.head(10)"
   ]
  },
  {
   "cell_type": "code",
   "execution_count": null,
   "metadata": {
    "ExecuteTime": {
     "end_time": "2019-03-18T04:01:26.023435Z",
     "start_time": "2019-03-18T04:01:25.858651Z"
    }
   },
   "outputs": [],
   "source": [
    "lst_of_content_urls = [ [repo['id'], repo['contents_url'][:-7] ] for repo in all_repos_concat]\n"
   ]
  },
  {
   "cell_type": "code",
   "execution_count": null,
   "metadata": {
    "ExecuteTime": {
     "end_time": "2019-03-18T21:20:57.926848Z",
     "start_time": "2019-03-18T21:20:53.740Z"
    }
   },
   "outputs": [],
   "source": [
    "len(lst_of_content_urls)\n"
   ]
  },
  {
   "cell_type": "code",
   "execution_count": null,
   "metadata": {},
   "outputs": [],
   "source": []
  },
  {
   "cell_type": "code",
   "execution_count": null,
   "metadata": {
    "ExecuteTime": {
     "end_time": "2019-03-18T21:22:57.697304Z",
     "start_time": "2019-03-18T21:22:57.687249Z"
    }
   },
   "outputs": [],
   "source": [
    "with open('repo_descriptions_df.pkl', 'wb') as f:\n",
    "    pickle.dump(repo_descripions_df, f)"
   ]
  },
  {
   "cell_type": "code",
   "execution_count": null,
   "metadata": {},
   "outputs": [],
   "source": []
  },
  {
   "cell_type": "code",
   "execution_count": null,
   "metadata": {
    "ExecuteTime": {
     "end_time": "2019-03-17T20:40:07.924727Z",
     "start_time": "2019-03-17T20:40:06.104344Z"
    }
   },
   "outputs": [],
   "source": [
    "q = [\n",
    "  {\n",
    "    \"name\": \".circleci\",\n",
    "    \"path\": \".circleci\",\n",
    "    \"sha\": \"709ff8b2fe5b5cd874b432d7d330fa82540ed093\",\n",
    "    \"size\": 0,\n",
    "    \"url\": \"https://api.github.com/repos/scikit-learn/scikit-learn/contents/.circleci?ref=master\",\n",
    "    \"html_url\": \"https://github.com/scikit-learn/scikit-learn/tree/master/.circleci\",\n",
    "    \"git_url\": \"https://api.github.com/repos/scikit-learn/scikit-learn/git/trees/709ff8b2fe5b5cd874b432d7d330fa82540ed093\",\n",
    "    \"download_url\": None,\n",
    "    \"type\": \"dir\",\n",
    "    \"_links\": {\n",
    "      \"self\": \"https://api.github.com/repos/scikit-learn/scikit-learn/contents/.circleci?ref=master\",\n",
    "      \"git\": \"https://api.github.com/repos/scikit-learn/scikit-learn/git/trees/709ff8b2fe5b5cd874b432d7d330fa82540ed093\",\n",
    "      \"html\": \"https://github.com/scikit-learn/scikit-learn/tree/master/.circleci\"\n",
    "    }\n",
    "  },\n",
    "  {\n",
    "    \"name\": \".codecov.yml\",\n",
    "    \"path\": \".codecov.yml\",\n",
    "    \"sha\": \"2f73002107a03321b47ed3b982acd9af150fc4a9\",\n",
    "    \"size\": 672,\n",
    "    \"url\": \"https://api.github.com/repos/scikit-learn/scikit-learn/contents/.codecov.yml?ref=master\",\n",
    "    \"html_url\": \"https://github.com/scikit-learn/scikit-learn/blob/master/.codecov.yml\",\n",
    "    \"git_url\": \"https://api.github.com/repos/scikit-learn/scikit-learn/git/blobs/2f73002107a03321b47ed3b982acd9af150fc4a9\",\n",
    "    \"download_url\": \"https://raw.githubusercontent.com/scikit-learn/scikit-learn/master/.codecov.yml\",\n",
    "    \"type\": \"file\",\n",
    "    \"_links\": {\n",
    "      \"self\": \"https://api.github.com/repos/scikit-learn/scikit-learn/contents/.codecov.yml?ref=master\",\n",
    "      \"git\": \"https://api.github.com/repos/scikit-learn/scikit-learn/git/blobs/2f73002107a03321b47ed3b982acd9af150fc4a9\",\n",
    "      \"html\": \"https://github.com/scikit-learn/scikit-learn/blob/master/.codecov.yml\"\n",
    "    }\n",
    "  },\n",
    "  {\n",
    "    \"name\": \".coveragerc\",\n",
    "    \"path\": \".coveragerc\",\n",
    "    \"sha\": \"6d76a5bca8235329d8156c6c542b9d2cd0084a77\",\n",
    "    \"size\": 126,\n",
    "    \"url\": \"https://api.github.com/repos/scikit-learn/scikit-learn/contents/.coveragerc?ref=master\",\n",
    "    \"html_url\": \"https://github.com/scikit-learn/scikit-learn/blob/master/.coveragerc\",\n",
    "    \"git_url\": \"https://api.github.com/repos/scikit-learn/scikit-learn/git/blobs/6d76a5bca8235329d8156c6c542b9d2cd0084a77\",\n",
    "    \"download_url\": \"https://raw.githubusercontent.com/scikit-learn/scikit-learn/master/.coveragerc\",\n",
    "    \"type\": \"file\",\n",
    "    \"_links\": {\n",
    "      \"self\": \"https://api.github.com/repos/scikit-learn/scikit-learn/contents/.coveragerc?ref=master\",\n",
    "      \"git\": \"https://api.github.com/repos/scikit-learn/scikit-learn/git/blobs/6d76a5bca8235329d8156c6c542b9d2cd0084a77\",\n",
    "      \"html\": \"https://github.com/scikit-learn/scikit-learn/blob/master/.coveragerc\"\n",
    "    }\n",
    "  },\n",
    "  {\n",
    "    \"name\": \".gitattributes\",\n",
    "    \"path\": \".gitattributes\",\n",
    "    \"sha\": \"163f2a4fe2030acdbc6c283d7cc91526c40daeb7\",\n",
    "    \"size\": 31,\n",
    "    \"url\": \"https://api.github.com/repos/scikit-learn/scikit-learn/contents/.gitattributes?ref=master\",\n",
    "    \"html_url\": \"https://github.com/scikit-learn/scikit-learn/blob/master/.gitattributes\",\n",
    "    \"git_url\": \"https://api.github.com/repos/scikit-learn/scikit-learn/git/blobs/163f2a4fe2030acdbc6c283d7cc91526c40daeb7\",\n",
    "    \"download_url\": \"https://raw.githubusercontent.com/scikit-learn/scikit-learn/master/.gitattributes\",\n",
    "    \"type\": \"file\",\n",
    "    \"_links\": {\n",
    "      \"self\": \"https://api.github.com/repos/scikit-learn/scikit-learn/contents/.gitattributes?ref=master\",\n",
    "      \"git\": \"https://api.github.com/repos/scikit-learn/scikit-learn/git/blobs/163f2a4fe2030acdbc6c283d7cc91526c40daeb7\",\n",
    "      \"html\": \"https://github.com/scikit-learn/scikit-learn/blob/master/.gitattributes\"\n",
    "    }\n",
    "  },\n",
    "  {\n",
    "    \"name\": \".gitignore\",\n",
    "    \"path\": \".gitignore\",\n",
    "    \"sha\": \"73feb51e76e2f6e156d26d2c20a9dd384d4b5bae\",\n",
    "    \"size\": 891,\n",
    "    \"url\": \"https://api.github.com/repos/scikit-learn/scikit-learn/contents/.gitignore?ref=master\",\n",
    "    \"html_url\": \"https://github.com/scikit-learn/scikit-learn/blob/master/.gitignore\",\n",
    "    \"git_url\": \"https://api.github.com/repos/scikit-learn/scikit-learn/git/blobs/73feb51e76e2f6e156d26d2c20a9dd384d4b5bae\",\n",
    "    \"download_url\": \"https://raw.githubusercontent.com/scikit-learn/scikit-learn/master/.gitignore\",\n",
    "    \"type\": \"file\",\n",
    "    \"_links\": {\n",
    "      \"self\": \"https://api.github.com/repos/scikit-learn/scikit-learn/contents/.gitignore?ref=master\",\n",
    "      \"git\": \"https://api.github.com/repos/scikit-learn/scikit-learn/git/blobs/73feb51e76e2f6e156d26d2c20a9dd384d4b5bae\",\n",
    "      \"html\": \"https://github.com/scikit-learn/scikit-learn/blob/master/.gitignore\"\n",
    "    }\n",
    "  },\n",
    "  {\n",
    "    \"name\": \".landscape.yml\",\n",
    "    \"path\": \".landscape.yml\",\n",
    "    \"sha\": \"4774bdc1a2984d25022fbad17fa3d497a5261680\",\n",
    "    \"size\": 86,\n",
    "    \"url\": \"https://api.github.com/repos/scikit-learn/scikit-learn/contents/.landscape.yml?ref=master\",\n",
    "    \"html_url\": \"https://github.com/scikit-learn/scikit-learn/blob/master/.landscape.yml\",\n",
    "    \"git_url\": \"https://api.github.com/repos/scikit-learn/scikit-learn/git/blobs/4774bdc1a2984d25022fbad17fa3d497a5261680\",\n",
    "    \"download_url\": \"https://raw.githubusercontent.com/scikit-learn/scikit-learn/master/.landscape.yml\",\n",
    "    \"type\": \"file\",\n",
    "    \"_links\": {\n",
    "      \"self\": \"https://api.github.com/repos/scikit-learn/scikit-learn/contents/.landscape.yml?ref=master\",\n",
    "      \"git\": \"https://api.github.com/repos/scikit-learn/scikit-learn/git/blobs/4774bdc1a2984d25022fbad17fa3d497a5261680\",\n",
    "      \"html\": \"https://github.com/scikit-learn/scikit-learn/blob/master/.landscape.yml\"\n",
    "    }\n",
    "  },\n",
    "  {\n",
    "    \"name\": \".mailmap\",\n",
    "    \"path\": \".mailmap\",\n",
    "    \"sha\": \"eda2c2137725992d48670c13573cd862403be138\",\n",
    "    \"size\": 7263,\n",
    "    \"url\": \"https://api.github.com/repos/scikit-learn/scikit-learn/contents/.mailmap?ref=master\",\n",
    "    \"html_url\": \"https://github.com/scikit-learn/scikit-learn/blob/master/.mailmap\",\n",
    "    \"git_url\": \"https://api.github.com/repos/scikit-learn/scikit-learn/git/blobs/eda2c2137725992d48670c13573cd862403be138\",\n",
    "    \"download_url\": \"https://raw.githubusercontent.com/scikit-learn/scikit-learn/master/.mailmap\",\n",
    "    \"type\": \"file\",\n",
    "    \"_links\": {\n",
    "      \"self\": \"https://api.github.com/repos/scikit-learn/scikit-learn/contents/.mailmap?ref=master\",\n",
    "      \"git\": \"https://api.github.com/repos/scikit-learn/scikit-learn/git/blobs/eda2c2137725992d48670c13573cd862403be138\",\n",
    "      \"html\": \"https://github.com/scikit-learn/scikit-learn/blob/master/.mailmap\"\n",
    "    }\n",
    "  },\n",
    "  {\n",
    "    \"name\": \".travis.yml\",\n",
    "    \"path\": \".travis.yml\",\n",
    "    \"sha\": \"0ef70da93040de67bc16b40c689e157186550ce7\",\n",
    "    \"size\": 1234,\n",
    "    \"url\": \"https://api.github.com/repos/scikit-learn/scikit-learn/contents/.travis.yml?ref=master\",\n",
    "    \"html_url\": \"https://github.com/scikit-learn/scikit-learn/blob/master/.travis.yml\",\n",
    "    \"git_url\": \"https://api.github.com/repos/scikit-learn/scikit-learn/git/blobs/0ef70da93040de67bc16b40c689e157186550ce7\",\n",
    "    \"download_url\": \"https://raw.githubusercontent.com/scikit-learn/scikit-learn/master/.travis.yml\",\n",
    "    \"type\": \"file\",\n",
    "    \"_links\": {\n",
    "      \"self\": \"https://api.github.com/repos/scikit-learn/scikit-learn/contents/.travis.yml?ref=master\",\n",
    "      \"git\": \"https://api.github.com/repos/scikit-learn/scikit-learn/git/blobs/0ef70da93040de67bc16b40c689e157186550ce7\",\n",
    "      \"html\": \"https://github.com/scikit-learn/scikit-learn/blob/master/.travis.yml\"\n",
    "    }\n",
    "  },\n",
    "  {\n",
    "    \"name\": \"CONTRIBUTING.md\",\n",
    "    \"path\": \"CONTRIBUTING.md\",\n",
    "    \"sha\": \"bca3508478ba58c7f9c3e19a9267af7e6c4c1eb8\",\n",
    "    \"size\": 2107,\n",
    "    \"url\": \"https://api.github.com/repos/scikit-learn/scikit-learn/contents/CONTRIBUTING.md?ref=master\",\n",
    "    \"html_url\": \"https://github.com/scikit-learn/scikit-learn/blob/master/CONTRIBUTING.md\",\n",
    "    \"git_url\": \"https://api.github.com/repos/scikit-learn/scikit-learn/git/blobs/bca3508478ba58c7f9c3e19a9267af7e6c4c1eb8\",\n",
    "    \"download_url\": \"https://raw.githubusercontent.com/scikit-learn/scikit-learn/master/CONTRIBUTING.md\",\n",
    "    \"type\": \"file\",\n",
    "    \"_links\": {\n",
    "      \"self\": \"https://api.github.com/repos/scikit-learn/scikit-learn/contents/CONTRIBUTING.md?ref=master\",\n",
    "      \"git\": \"https://api.github.com/repos/scikit-learn/scikit-learn/git/blobs/bca3508478ba58c7f9c3e19a9267af7e6c4c1eb8\",\n",
    "      \"html\": \"https://github.com/scikit-learn/scikit-learn/blob/master/CONTRIBUTING.md\"\n",
    "    }\n",
    "  },\n",
    "  {\n",
    "    \"name\": \"COPYING\",\n",
    "    \"path\": \"COPYING\",\n",
    "    \"sha\": \"0f665f8400d08086355ebb3539fbcaccbdfa26a9\",\n",
    "    \"size\": 1559,\n",
    "    \"url\": \"https://api.github.com/repos/scikit-learn/scikit-learn/contents/COPYING?ref=master\",\n",
    "    \"html_url\": \"https://github.com/scikit-learn/scikit-learn/blob/master/COPYING\",\n",
    "    \"git_url\": \"https://api.github.com/repos/scikit-learn/scikit-learn/git/blobs/0f665f8400d08086355ebb3539fbcaccbdfa26a9\",\n",
    "    \"download_url\": \"https://raw.githubusercontent.com/scikit-learn/scikit-learn/master/COPYING\",\n",
    "    \"type\": \"file\",\n",
    "    \"_links\": {\n",
    "      \"self\": \"https://api.github.com/repos/scikit-learn/scikit-learn/contents/COPYING?ref=master\",\n",
    "      \"git\": \"https://api.github.com/repos/scikit-learn/scikit-learn/git/blobs/0f665f8400d08086355ebb3539fbcaccbdfa26a9\",\n",
    "      \"html\": \"https://github.com/scikit-learn/scikit-learn/blob/master/COPYING\"\n",
    "    }\n",
    "  },\n",
    "  {\n",
    "    \"name\": \"ISSUE_TEMPLATE.md\",\n",
    "    \"path\": \"ISSUE_TEMPLATE.md\",\n",
    "    \"sha\": \"c8ce3e4905b37f2de839df5b2efb52f2f6373bbb\",\n",
    "    \"size\": 1860,\n",
    "    \"url\": \"https://api.github.com/repos/scikit-learn/scikit-learn/contents/ISSUE_TEMPLATE.md?ref=master\",\n",
    "    \"html_url\": \"https://github.com/scikit-learn/scikit-learn/blob/master/ISSUE_TEMPLATE.md\",\n",
    "    \"git_url\": \"https://api.github.com/repos/scikit-learn/scikit-learn/git/blobs/c8ce3e4905b37f2de839df5b2efb52f2f6373bbb\",\n",
    "    \"download_url\": \"https://raw.githubusercontent.com/scikit-learn/scikit-learn/master/ISSUE_TEMPLATE.md\",\n",
    "    \"type\": \"file\",\n",
    "    \"_links\": {\n",
    "      \"self\": \"https://api.github.com/repos/scikit-learn/scikit-learn/contents/ISSUE_TEMPLATE.md?ref=master\",\n",
    "      \"git\": \"https://api.github.com/repos/scikit-learn/scikit-learn/git/blobs/c8ce3e4905b37f2de839df5b2efb52f2f6373bbb\",\n",
    "      \"html\": \"https://github.com/scikit-learn/scikit-learn/blob/master/ISSUE_TEMPLATE.md\"\n",
    "    }\n",
    "  },\n",
    "  {\n",
    "    \"name\": \"MANIFEST.in\",\n",
    "    \"path\": \"MANIFEST.in\",\n",
    "    \"sha\": \"789a935c7e20a05849d6035ecdb240bafa39d98d\",\n",
    "    \"size\": 243,\n",
    "    \"url\": \"https://api.github.com/repos/scikit-learn/scikit-learn/contents/MANIFEST.in?ref=master\",\n",
    "    \"html_url\": \"https://github.com/scikit-learn/scikit-learn/blob/master/MANIFEST.in\",\n",
    "    \"git_url\": \"https://api.github.com/repos/scikit-learn/scikit-learn/git/blobs/789a935c7e20a05849d6035ecdb240bafa39d98d\",\n",
    "    \"download_url\": \"https://raw.githubusercontent.com/scikit-learn/scikit-learn/master/MANIFEST.in\",\n",
    "    \"type\": \"file\",\n",
    "    \"_links\": {\n",
    "      \"self\": \"https://api.github.com/repos/scikit-learn/scikit-learn/contents/MANIFEST.in?ref=master\",\n",
    "      \"git\": \"https://api.github.com/repos/scikit-learn/scikit-learn/git/blobs/789a935c7e20a05849d6035ecdb240bafa39d98d\",\n",
    "      \"html\": \"https://github.com/scikit-learn/scikit-learn/blob/master/MANIFEST.in\"\n",
    "    }\n",
    "  },\n",
    "  {\n",
    "    \"name\": \"Makefile\",\n",
    "    \"path\": \"Makefile\",\n",
    "    \"sha\": \"f483ef1b034e979f82ee198d8c1a56d14ab5c146\",\n",
    "    \"size\": 1390,\n",
    "    \"url\": \"https://api.github.com/repos/scikit-learn/scikit-learn/contents/Makefile?ref=master\",\n",
    "    \"html_url\": \"https://github.com/scikit-learn/scikit-learn/blob/master/Makefile\",\n",
    "    \"git_url\": \"https://api.github.com/repos/scikit-learn/scikit-learn/git/blobs/f483ef1b034e979f82ee198d8c1a56d14ab5c146\",\n",
    "    \"download_url\": \"https://raw.githubusercontent.com/scikit-learn/scikit-learn/master/Makefile\",\n",
    "    \"type\": \"file\",\n",
    "    \"_links\": {\n",
    "      \"self\": \"https://api.github.com/repos/scikit-learn/scikit-learn/contents/Makefile?ref=master\",\n",
    "      \"git\": \"https://api.github.com/repos/scikit-learn/scikit-learn/git/blobs/f483ef1b034e979f82ee198d8c1a56d14ab5c146\",\n",
    "      \"html\": \"https://github.com/scikit-learn/scikit-learn/blob/master/Makefile\"\n",
    "    }\n",
    "  },\n",
    "  {\n",
    "    \"name\": \"PULL_REQUEST_TEMPLATE.md\",\n",
    "    \"path\": \"PULL_REQUEST_TEMPLATE.md\",\n",
    "    \"sha\": \"9db6ade08b6913cfcc73b7cbec1b00a63ba6506c\",\n",
    "    \"size\": 1198,\n",
    "    \"url\": \"https://api.github.com/repos/scikit-learn/scikit-learn/contents/PULL_REQUEST_TEMPLATE.md?ref=master\",\n",
    "    \"html_url\": \"https://github.com/scikit-learn/scikit-learn/blob/master/PULL_REQUEST_TEMPLATE.md\",\n",
    "    \"git_url\": \"https://api.github.com/repos/scikit-learn/scikit-learn/git/blobs/9db6ade08b6913cfcc73b7cbec1b00a63ba6506c\",\n",
    "    \"download_url\": \"https://raw.githubusercontent.com/scikit-learn/scikit-learn/master/PULL_REQUEST_TEMPLATE.md\",\n",
    "    \"type\": \"file\",\n",
    "    \"_links\": {\n",
    "      \"self\": \"https://api.github.com/repos/scikit-learn/scikit-learn/contents/PULL_REQUEST_TEMPLATE.md?ref=master\",\n",
    "      \"git\": \"https://api.github.com/repos/scikit-learn/scikit-learn/git/blobs/9db6ade08b6913cfcc73b7cbec1b00a63ba6506c\",\n",
    "      \"html\": \"https://github.com/scikit-learn/scikit-learn/blob/master/PULL_REQUEST_TEMPLATE.md\"\n",
    "    }\n",
    "  },\n",
    "  {\n",
    "    \"name\": \"README.rst\",\n",
    "    \"path\": \"README.rst\",\n",
    "    \"sha\": \"9b9e80f69b120886bfa1f67aa9928c95d1e8829d\",\n",
    "    \"size\": 5816,\n",
    "    \"url\": \"https://api.github.com/repos/scikit-learn/scikit-learn/contents/README.rst?ref=master\",\n",
    "    \"html_url\": \"https://github.com/scikit-learn/scikit-learn/blob/master/README.rst\",\n",
    "    \"git_url\": \"https://api.github.com/repos/scikit-learn/scikit-learn/git/blobs/9b9e80f69b120886bfa1f67aa9928c95d1e8829d\",\n",
    "    \"download_url\": \"https://raw.githubusercontent.com/scikit-learn/scikit-learn/master/README.rst\",\n",
    "    \"type\": \"file\",\n",
    "    \"_links\": {\n",
    "      \"self\": \"https://api.github.com/repos/scikit-learn/scikit-learn/contents/README.rst?ref=master\",\n",
    "      \"git\": \"https://api.github.com/repos/scikit-learn/scikit-learn/git/blobs/9b9e80f69b120886bfa1f67aa9928c95d1e8829d\",\n",
    "      \"html\": \"https://github.com/scikit-learn/scikit-learn/blob/master/README.rst\"\n",
    "    }\n",
    "  },\n",
    "  {\n",
    "    \"name\": \"appveyor.yml\",\n",
    "    \"path\": \"appveyor.yml\",\n",
    "    \"sha\": \"a75281522f7baca5b2212f63327f0a68d868b9f3\",\n",
    "    \"size\": 4694,\n",
    "    \"url\": \"https://api.github.com/repos/scikit-learn/scikit-learn/contents/appveyor.yml?ref=master\",\n",
    "    \"html_url\": \"https://github.com/scikit-learn/scikit-learn/blob/master/appveyor.yml\",\n",
    "    \"git_url\": \"https://api.github.com/repos/scikit-learn/scikit-learn/git/blobs/a75281522f7baca5b2212f63327f0a68d868b9f3\",\n",
    "    \"download_url\": \"https://raw.githubusercontent.com/scikit-learn/scikit-learn/master/appveyor.yml\",\n",
    "    \"type\": \"file\",\n",
    "    \"_links\": {\n",
    "      \"self\": \"https://api.github.com/repos/scikit-learn/scikit-learn/contents/appveyor.yml?ref=master\",\n",
    "      \"git\": \"https://api.github.com/repos/scikit-learn/scikit-learn/git/blobs/a75281522f7baca5b2212f63327f0a68d868b9f3\",\n",
    "      \"html\": \"https://github.com/scikit-learn/scikit-learn/blob/master/appveyor.yml\"\n",
    "    }\n",
    "  },\n",
    "  {\n",
    "    \"name\": \"azure-pipelines.yml\",\n",
    "    \"path\": \"azure-pipelines.yml\",\n",
    "    \"sha\": \"a1af60a7771c5d1eebc0fe193c646ce3e2dc3b74\",\n",
    "    \"size\": 2226,\n",
    "    \"url\": \"https://api.github.com/repos/scikit-learn/scikit-learn/contents/azure-pipelines.yml?ref=master\",\n",
    "    \"html_url\": \"https://github.com/scikit-learn/scikit-learn/blob/master/azure-pipelines.yml\",\n",
    "    \"git_url\": \"https://api.github.com/repos/scikit-learn/scikit-learn/git/blobs/a1af60a7771c5d1eebc0fe193c646ce3e2dc3b74\",\n",
    "    \"download_url\": \"https://raw.githubusercontent.com/scikit-learn/scikit-learn/master/azure-pipelines.yml\",\n",
    "    \"type\": \"file\",\n",
    "    \"_links\": {\n",
    "      \"self\": \"https://api.github.com/repos/scikit-learn/scikit-learn/contents/azure-pipelines.yml?ref=master\",\n",
    "      \"git\": \"https://api.github.com/repos/scikit-learn/scikit-learn/git/blobs/a1af60a7771c5d1eebc0fe193c646ce3e2dc3b74\",\n",
    "      \"html\": \"https://github.com/scikit-learn/scikit-learn/blob/master/azure-pipelines.yml\"\n",
    "    }\n",
    "  },\n",
    "  {\n",
    "    \"name\": \"benchmarks\",\n",
    "    \"path\": \"benchmarks\",\n",
    "    \"sha\": \"1b9e6b44a71e099c025f62034f73f37dc0056431\",\n",
    "    \"size\": 0,\n",
    "    \"url\": \"https://api.github.com/repos/scikit-learn/scikit-learn/contents/benchmarks?ref=master\",\n",
    "    \"html_url\": \"https://github.com/scikit-learn/scikit-learn/tree/master/benchmarks\",\n",
    "    \"git_url\": \"https://api.github.com/repos/scikit-learn/scikit-learn/git/trees/1b9e6b44a71e099c025f62034f73f37dc0056431\",\n",
    "    \"download_url\": None,\n",
    "    \"type\": \"dir\",\n",
    "    \"_links\": {\n",
    "      \"self\": \"https://api.github.com/repos/scikit-learn/scikit-learn/contents/benchmarks?ref=master\",\n",
    "      \"git\": \"https://api.github.com/repos/scikit-learn/scikit-learn/git/trees/1b9e6b44a71e099c025f62034f73f37dc0056431\",\n",
    "      \"html\": \"https://github.com/scikit-learn/scikit-learn/tree/master/benchmarks\"\n",
    "    }\n",
    "  },\n",
    "  {\n",
    "    \"name\": \"build_tools\",\n",
    "    \"path\": \"build_tools\",\n",
    "    \"sha\": \"edaadcfe7935ad347289640e9c76191a7fb0add8\",\n",
    "    \"size\": 0,\n",
    "    \"url\": \"https://api.github.com/repos/scikit-learn/scikit-learn/contents/build_tools?ref=master\",\n",
    "    \"html_url\": \"https://github.com/scikit-learn/scikit-learn/tree/master/build_tools\",\n",
    "    \"git_url\": \"https://api.github.com/repos/scikit-learn/scikit-learn/git/trees/edaadcfe7935ad347289640e9c76191a7fb0add8\",\n",
    "    \"download_url\": None,\n",
    "    \"type\": \"dir\",\n",
    "    \"_links\": {\n",
    "      \"self\": \"https://api.github.com/repos/scikit-learn/scikit-learn/contents/build_tools?ref=master\",\n",
    "      \"git\": \"https://api.github.com/repos/scikit-learn/scikit-learn/git/trees/edaadcfe7935ad347289640e9c76191a7fb0add8\",\n",
    "      \"html\": \"https://github.com/scikit-learn/scikit-learn/tree/master/build_tools\"\n",
    "    }\n",
    "  },\n",
    "  {\n",
    "    \"name\": \"conftest.py\",\n",
    "    \"path\": \"conftest.py\",\n",
    "    \"sha\": \"45a5a8af29d20d195f96e736affd616a7680d060\",\n",
    "    \"size\": 2327,\n",
    "    \"url\": \"https://api.github.com/repos/scikit-learn/scikit-learn/contents/conftest.py?ref=master\",\n",
    "    \"html_url\": \"https://github.com/scikit-learn/scikit-learn/blob/master/conftest.py\",\n",
    "    \"git_url\": \"https://api.github.com/repos/scikit-learn/scikit-learn/git/blobs/45a5a8af29d20d195f96e736affd616a7680d060\",\n",
    "    \"download_url\": \"https://raw.githubusercontent.com/scikit-learn/scikit-learn/master/conftest.py\",\n",
    "    \"type\": \"file\",\n",
    "    \"_links\": {\n",
    "      \"self\": \"https://api.github.com/repos/scikit-learn/scikit-learn/contents/conftest.py?ref=master\",\n",
    "      \"git\": \"https://api.github.com/repos/scikit-learn/scikit-learn/git/blobs/45a5a8af29d20d195f96e736affd616a7680d060\",\n",
    "      \"html\": \"https://github.com/scikit-learn/scikit-learn/blob/master/conftest.py\"\n",
    "    }\n",
    "  },\n",
    "  {\n",
    "    \"name\": \"doc\",\n",
    "    \"path\": \"doc\",\n",
    "    \"sha\": \"7e6d4d1ea258e395b826df5da87a0fd7e1a405f4\",\n",
    "    \"size\": 0,\n",
    "    \"url\": \"https://api.github.com/repos/scikit-learn/scikit-learn/contents/doc?ref=master\",\n",
    "    \"html_url\": \"https://github.com/scikit-learn/scikit-learn/tree/master/doc\",\n",
    "    \"git_url\": \"https://api.github.com/repos/scikit-learn/scikit-learn/git/trees/7e6d4d1ea258e395b826df5da87a0fd7e1a405f4\",\n",
    "    \"download_url\": None,\n",
    "    \"type\": \"dir\",\n",
    "    \"_links\": {\n",
    "      \"self\": \"https://api.github.com/repos/scikit-learn/scikit-learn/contents/doc?ref=master\",\n",
    "      \"git\": \"https://api.github.com/repos/scikit-learn/scikit-learn/git/trees/7e6d4d1ea258e395b826df5da87a0fd7e1a405f4\",\n",
    "      \"html\": \"https://github.com/scikit-learn/scikit-learn/tree/master/doc\"\n",
    "    }\n",
    "  },\n",
    "  {\n",
    "    \"name\": \"examples\",\n",
    "    \"path\": \"examples\",\n",
    "    \"sha\": \"866b854c44c738c1017c1ec5fc53e942d76cb0a0\",\n",
    "    \"size\": 0,\n",
    "    \"url\": \"https://api.github.com/repos/scikit-learn/scikit-learn/contents/examples?ref=master\",\n",
    "    \"html_url\": \"https://github.com/scikit-learn/scikit-learn/tree/master/examples\",\n",
    "    \"git_url\": \"https://api.github.com/repos/scikit-learn/scikit-learn/git/trees/866b854c44c738c1017c1ec5fc53e942d76cb0a0\",\n",
    "    \"download_url\": None,\n",
    "    \"type\": \"dir\",\n",
    "    \"_links\": {\n",
    "      \"self\": \"https://api.github.com/repos/scikit-learn/scikit-learn/contents/examples?ref=master\",\n",
    "      \"git\": \"https://api.github.com/repos/scikit-learn/scikit-learn/git/trees/866b854c44c738c1017c1ec5fc53e942d76cb0a0\",\n",
    "      \"html\": \"https://github.com/scikit-learn/scikit-learn/tree/master/examples\"\n",
    "    }\n",
    "  },\n",
    "  {\n",
    "    \"name\": \"lgtm.yml\",\n",
    "    \"path\": \"lgtm.yml\",\n",
    "    \"sha\": \"fba6c64f197beba8abb16608750384402b3f7f9d\",\n",
    "    \"size\": 149,\n",
    "    \"url\": \"https://api.github.com/repos/scikit-learn/scikit-learn/contents/lgtm.yml?ref=master\",\n",
    "    \"html_url\": \"https://github.com/scikit-learn/scikit-learn/blob/master/lgtm.yml\",\n",
    "    \"git_url\": \"https://api.github.com/repos/scikit-learn/scikit-learn/git/blobs/fba6c64f197beba8abb16608750384402b3f7f9d\",\n",
    "    \"download_url\": \"https://raw.githubusercontent.com/scikit-learn/scikit-learn/master/lgtm.yml\",\n",
    "    \"type\": \"file\",\n",
    "    \"_links\": {\n",
    "      \"self\": \"https://api.github.com/repos/scikit-learn/scikit-learn/contents/lgtm.yml?ref=master\",\n",
    "      \"git\": \"https://api.github.com/repos/scikit-learn/scikit-learn/git/blobs/fba6c64f197beba8abb16608750384402b3f7f9d\",\n",
    "      \"html\": \"https://github.com/scikit-learn/scikit-learn/blob/master/lgtm.yml\"\n",
    "    }\n",
    "  },\n",
    "  {\n",
    "    \"name\": \"maint_tools\",\n",
    "    \"path\": \"maint_tools\",\n",
    "    \"sha\": \"9aa22e4687f0547d0b4f068de3711c5f7f98e4b3\",\n",
    "    \"size\": 0,\n",
    "    \"url\": \"https://api.github.com/repos/scikit-learn/scikit-learn/contents/maint_tools?ref=master\",\n",
    "    \"html_url\": \"https://github.com/scikit-learn/scikit-learn/tree/master/maint_tools\",\n",
    "    \"git_url\": \"https://api.github.com/repos/scikit-learn/scikit-learn/git/trees/9aa22e4687f0547d0b4f068de3711c5f7f98e4b3\",\n",
    "    \"download_url\": None,\n",
    "    \"type\": \"dir\",\n",
    "    \"_links\": {\n",
    "      \"self\": \"https://api.github.com/repos/scikit-learn/scikit-learn/contents/maint_tools?ref=master\",\n",
    "      \"git\": \"https://api.github.com/repos/scikit-learn/scikit-learn/git/trees/9aa22e4687f0547d0b4f068de3711c5f7f98e4b3\",\n",
    "      \"html\": \"https://github.com/scikit-learn/scikit-learn/tree/master/maint_tools\"\n",
    "    }\n",
    "  },\n",
    "  {\n",
    "    \"name\": \"setup.cfg\",\n",
    "    \"path\": \"setup.cfg\",\n",
    "    \"sha\": \"e95bb5948c671a1e4d954c2e0906b3d7202b7b98\",\n",
    "    \"size\": 664,\n",
    "    \"url\": \"https://api.github.com/repos/scikit-learn/scikit-learn/contents/setup.cfg?ref=master\",\n",
    "    \"html_url\": \"https://github.com/scikit-learn/scikit-learn/blob/master/setup.cfg\",\n",
    "    \"git_url\": \"https://api.github.com/repos/scikit-learn/scikit-learn/git/blobs/e95bb5948c671a1e4d954c2e0906b3d7202b7b98\",\n",
    "    \"download_url\": \"https://raw.githubusercontent.com/scikit-learn/scikit-learn/master/setup.cfg\",\n",
    "    \"type\": \"file\",\n",
    "    \"_links\": {\n",
    "      \"self\": \"https://api.github.com/repos/scikit-learn/scikit-learn/contents/setup.cfg?ref=master\",\n",
    "      \"git\": \"https://api.github.com/repos/scikit-learn/scikit-learn/git/blobs/e95bb5948c671a1e4d954c2e0906b3d7202b7b98\",\n",
    "      \"html\": \"https://github.com/scikit-learn/scikit-learn/blob/master/setup.cfg\"\n",
    "    }\n",
    "  },\n",
    "  {\n",
    "    \"name\": \"setup.py\",\n",
    "    \"path\": \"setup.py\",\n",
    "    \"sha\": \"fd9cd14b9630429109f28cc7034fb94743e37d36\",\n",
    "    \"size\": 11442,\n",
    "    \"url\": \"https://api.github.com/repos/scikit-learn/scikit-learn/contents/setup.py?ref=master\",\n",
    "    \"html_url\": \"https://github.com/scikit-learn/scikit-learn/blob/master/setup.py\",\n",
    "    \"git_url\": \"https://api.github.com/repos/scikit-learn/scikit-learn/git/blobs/fd9cd14b9630429109f28cc7034fb94743e37d36\",\n",
    "    \"download_url\": \"https://raw.githubusercontent.com/scikit-learn/scikit-learn/master/setup.py\",\n",
    "    \"type\": \"file\",\n",
    "    \"_links\": {\n",
    "      \"self\": \"https://api.github.com/repos/scikit-learn/scikit-learn/contents/setup.py?ref=master\",\n",
    "      \"git\": \"https://api.github.com/repos/scikit-learn/scikit-learn/git/blobs/fd9cd14b9630429109f28cc7034fb94743e37d36\",\n",
    "      \"html\": \"https://github.com/scikit-learn/scikit-learn/blob/master/setup.py\"\n",
    "    }\n",
    "  },\n",
    "  {\n",
    "    \"name\": \"site.cfg\",\n",
    "    \"path\": \"site.cfg\",\n",
    "    \"sha\": \"9055c7c25da37687867f239237784691fe743b1f\",\n",
    "    \"size\": 292,\n",
    "    \"url\": \"https://api.github.com/repos/scikit-learn/scikit-learn/contents/site.cfg?ref=master\",\n",
    "    \"html_url\": \"https://github.com/scikit-learn/scikit-learn/blob/master/site.cfg\",\n",
    "    \"git_url\": \"https://api.github.com/repos/scikit-learn/scikit-learn/git/blobs/9055c7c25da37687867f239237784691fe743b1f\",\n",
    "    \"download_url\": \"https://raw.githubusercontent.com/scikit-learn/scikit-learn/master/site.cfg\",\n",
    "    \"type\": \"file\",\n",
    "    \"_links\": {\n",
    "      \"self\": \"https://api.github.com/repos/scikit-learn/scikit-learn/contents/site.cfg?ref=master\",\n",
    "      \"git\": \"https://api.github.com/repos/scikit-learn/scikit-learn/git/blobs/9055c7c25da37687867f239237784691fe743b1f\",\n",
    "      \"html\": \"https://github.com/scikit-learn/scikit-learn/blob/master/site.cfg\"\n",
    "    }\n",
    "  },\n",
    "  {\n",
    "    \"name\": \"sklearn\",\n",
    "    \"path\": \"sklearn\",\n",
    "    \"sha\": \"3ee3e61ac5bf75e6982a1283da6ba00514aabe4b\",\n",
    "    \"size\": 0,\n",
    "    \"url\": \"https://api.github.com/repos/scikit-learn/scikit-learn/contents/sklearn?ref=master\",\n",
    "    \"html_url\": \"https://github.com/scikit-learn/scikit-learn/tree/master/sklearn\",\n",
    "    \"git_url\": \"https://api.github.com/repos/scikit-learn/scikit-learn/git/trees/3ee3e61ac5bf75e6982a1283da6ba00514aabe4b\",\n",
    "    \"download_url\": None,\n",
    "    \"type\": \"dir\",\n",
    "    \"_links\": {\n",
    "      \"self\": \"https://api.github.com/repos/scikit-learn/scikit-learn/contents/sklearn?ref=master\",\n",
    "      \"git\": \"https://api.github.com/repos/scikit-learn/scikit-learn/git/trees/3ee3e61ac5bf75e6982a1283da6ba00514aabe4b\",\n",
    "      \"html\": \"https://github.com/scikit-learn/scikit-learn/tree/master/sklearn\"\n",
    "    }\n",
    "  }\n",
    "]"
   ]
  },
  {
   "cell_type": "code",
   "execution_count": null,
   "metadata": {
    "ExecuteTime": {
     "end_time": "2019-03-17T20:45:19.589650Z",
     "start_time": "2019-03-17T20:45:19.585244Z"
    }
   },
   "outputs": [],
   "source": [
    "for doc in q:\n",
    "    if 'read' in str.lower(doc[\"name\"]):\n",
    "        print(doc['download_url'])"
   ]
  },
  {
   "cell_type": "code",
   "execution_count": null,
   "metadata": {
    "ExecuteTime": {
     "end_time": "2019-03-18T04:04:20.620761Z",
     "start_time": "2019-03-18T04:04:20.615438Z"
    }
   },
   "outputs": [],
   "source": [
    "lst_of_content_urls"
   ]
  },
  {
   "cell_type": "code",
   "execution_count": null,
   "metadata": {
    "ExecuteTime": {
     "end_time": "2019-03-17T20:58:17.345905Z",
     "start_time": "2019-03-17T20:58:17.342748Z"
    }
   },
   "outputs": [],
   "source": [
    "import json as json\n",
    "headers = {'User-Agent': ua.random}"
   ]
  },
  {
   "cell_type": "code",
   "execution_count": null,
   "metadata": {
    "ExecuteTime": {
     "end_time": "2019-03-17T22:38:46.145483Z",
     "start_time": "2019-03-17T22:38:41.993428Z"
    }
   },
   "outputs": [],
   "source": [
    "sample_list = []\n",
    "\n",
    "for idx, repo in enumerate(lst_of_content_urls[:1]):\n",
    "    response = requests.get(repo[1], headers)\n",
    "    response_json = json.loads(response.text)\n",
    "\n",
    "    lst_of_filenames = [ doc[\"name\"].lower() for idx, doc in enumerate(response_json) ]\n",
    "    idx_of_readme = -1\n",
    "    \n",
    "    for i, x in enumerate(lst_of_filenames):\n",
    "            if 'readme' in x:\n",
    "                idx_of_readme = i\n",
    "            else:\n",
    "                continue\n",
    "    try:\n",
    "        sample_list.append([ repo[0], response_json[idx_of_readme]['download_url'] ])        \n",
    "    except:\n",
    "        sample_list.append([ repo[0], None])        \n"
   ]
  },
  {
   "cell_type": "code",
   "execution_count": null,
   "metadata": {
    "ExecuteTime": {
     "end_time": "2019-03-17T22:41:54.725714Z",
     "start_time": "2019-03-17T22:41:54.718509Z"
    }
   },
   "outputs": [],
   "source": [
    "print(sample_list)\n",
    "import math as math"
   ]
  },
  {
   "cell_type": "code",
   "execution_count": null,
   "metadata": {
    "ExecuteTime": {
     "end_time": "2019-03-17T21:52:02.085618Z",
     "start_time": "2019-03-17T21:52:02.058Z"
    }
   },
   "outputs": [],
   "source": [
    "sample_dict"
   ]
  },
  {
   "cell_type": "code",
   "execution_count": null,
   "metadata": {
    "ExecuteTime": {
     "end_time": "2019-03-17T22:48:54.994593Z",
     "start_time": "2019-03-17T22:48:54.984158Z"
    }
   },
   "outputs": [],
   "source": [
    "def get_readme_links(contents_links):\n",
    "    contents_list = []\n",
    "    \n",
    "    z = requests.get('https://api.github.com/rate_limit').json()\n",
    "    reset_time = z['resources']['core']['reset']\n",
    "        \n",
    "    for idx, repo in enumerate(lst_of_content_urls):\n",
    "        if reset_time >= math.ceil(time.time()):\n",
    "            time.sleep(60)\n",
    "            z = requests.get('https://api.github.com/rate_limit').json()\n",
    "            reset_time = z['resources']['core']['reset']\n",
    "        \n",
    "        headers = {'User-Agent': ua.random}\n",
    "        \n",
    "        response = requests.get(repo[1], headers)\n",
    "        response_json = json.loads(response.text)\n",
    "\n",
    "        lst_of_filenames = [ doc[\"name\"].lower() for idx, doc in enumerate(response_json) ]\n",
    "        idx_of_readme = -1\n",
    "\n",
    "        for i, x in enumerate(lst_of_filenames):\n",
    "                if 'readme' in x:\n",
    "                    idx_of_readme = i\n",
    "                else:\n",
    "                    continue\n",
    "        try:\n",
    "            contents_list.append([ repo[0], response_json[idx_of_readme]['download_url'] ])        \n",
    "        except:\n",
    "            contents_list.append([ repo[0], None])        \n",
    "                \n",
    "        z = requests.get('https://api.github.com/rate_limit').json()\n",
    "        reset_time = z['resources']['core']['reset']\n",
    "    \n",
    "        print(str(idx / len(contents_links)) + '%' + '\\n')\n",
    "\n",
    "        print(contents_list[idx])\n",
    "    return contents_list"
   ]
  },
  {
   "cell_type": "code",
   "execution_count": null,
   "metadata": {
    "ExecuteTime": {
     "end_time": "2019-03-17T22:55:04.844057Z",
     "start_time": "2019-03-17T22:48:57.647331Z"
    }
   },
   "outputs": [],
   "source": [
    "c = get_readme_links(lst_of_content_urls[:2])"
   ]
  },
  {
   "cell_type": "code",
   "execution_count": null,
   "metadata": {},
   "outputs": [],
   "source": []
  },
  {
   "cell_type": "code",
   "execution_count": null,
   "metadata": {
    "ExecuteTime": {
     "end_time": "2019-03-17T22:55:08.441158Z",
     "start_time": "2019-03-17T22:55:08.434675Z"
    }
   },
   "outputs": [],
   "source": [
    "c"
   ]
  },
  {
   "cell_type": "code",
   "execution_count": null,
   "metadata": {
    "ExecuteTime": {
     "end_time": "2019-03-17T22:43:44.236003Z",
     "start_time": "2019-03-17T22:43:44.230391Z"
    }
   },
   "outputs": [],
   "source": [
    "lst_of_content_urls[2]"
   ]
  },
  {
   "cell_type": "code",
   "execution_count": null,
   "metadata": {
    "ExecuteTime": {
     "end_time": "2019-03-19T01:55:52.376916Z",
     "start_time": "2019-03-19T01:55:52.360700Z"
    }
   },
   "outputs": [],
   "source": [
    "user_ids = []\n",
    "for repo in all_repos_concat_all[1:2]:\n",
    "    print(pprint.pprint(repo))\n",
    "#     'avatar_url'\n",
    "# 'updated_at'\n",
    "# 'created_at'\n",
    "# "
   ]
  },
  {
   "cell_type": "code",
   "execution_count": null,
   "metadata": {
    "ExecuteTime": {
     "end_time": "2019-03-19T02:03:30.145901Z",
     "start_time": "2019-03-19T02:03:30.030946Z"
    }
   },
   "outputs": [],
   "source": [
    "f = g.get_repo(33462633)"
   ]
  },
  {
   "cell_type": "code",
   "execution_count": null,
   "metadata": {
    "ExecuteTime": {
     "end_time": "2019-03-19T02:06:29.158627Z",
     "start_time": "2019-03-19T02:06:28.977400Z"
    }
   },
   "outputs": [],
   "source": [
    "f.get_topics()"
   ]
  },
  {
   "cell_type": "code",
   "execution_count": null,
   "metadata": {
    "ExecuteTime": {
     "end_time": "2019-03-19T02:13:35.441719Z",
     "start_time": "2019-03-19T02:13:35.433703Z"
    }
   },
   "outputs": [],
   "source": [
    "repo_ids = [ x['id'] for x in all_repos_concat_all ]"
   ]
  },
  {
   "cell_type": "code",
   "execution_count": null,
   "metadata": {
    "ExecuteTime": {
     "end_time": "2019-03-19T02:38:34.267778Z",
     "start_time": "2019-03-19T02:38:34.253572Z"
    }
   },
   "outputs": [],
   "source": [
    "with open('repo_ids.pkl', 'wb') as f:\n",
    "    pickle.dump(repo_ids, f)"
   ]
  },
  {
   "cell_type": "code",
   "execution_count": null,
   "metadata": {
    "ExecuteTime": {
     "end_time": "2019-03-19T02:13:44.602870Z",
     "start_time": "2019-03-19T02:13:44.595341Z"
    }
   },
   "outputs": [],
   "source": [
    "repo_ids[:50]"
   ]
  },
  {
   "cell_type": "code",
   "execution_count": null,
   "metadata": {},
   "outputs": [],
   "source": [
    "def get_repo_topics(lst_of_repo_ids):\n",
    "\n",
    "    repo_ids_topics = {}\n",
    "    \n",
    "    for repo_id in repo_ids:\n",
    "        \n",
    "        if g.get_rate_limit().rate.remaining > 0:\n",
    "            f = g.get_repo(repo_id)\n",
    "            topics = f.get_topics()\n",
    "\n",
    "            repo_ids_topics[repo_id] = topics\n",
    "        else:\n",
    "            continue\n",
    "        \n",
    "        with open('repo_ids_topics.pkl', 'wb') as f:\n",
    "            pickle.dump(repo_ids_topics, f)\n",
    "            \n",
    "    return repo_ids_topics"
   ]
  },
  {
   "cell_type": "code",
   "execution_count": null,
   "metadata": {
    "ExecuteTime": {
     "end_time": "2019-03-19T18:24:12.700708Z",
     "start_time": "2019-03-19T18:24:12.574747Z"
    }
   },
   "outputs": [],
   "source": [
    "print(g.get_api_status())"
   ]
  },
  {
   "cell_type": "code",
   "execution_count": null,
   "metadata": {},
   "outputs": [],
   "source": []
  }
 ],
 "metadata": {
  "kernelspec": {
   "display_name": "Python 3",
   "language": "python",
   "name": "python3"
  },
  "language_info": {
   "codemirror_mode": {
    "name": "ipython",
    "version": 3
   },
   "file_extension": ".py",
   "mimetype": "text/x-python",
   "name": "python",
   "nbconvert_exporter": "python",
   "pygments_lexer": "ipython3",
   "version": "3.7.3"
  },
  "varInspector": {
   "cols": {
    "lenName": 16,
    "lenType": 16,
    "lenVar": 40
   },
   "kernels_config": {
    "python": {
     "delete_cmd_postfix": "",
     "delete_cmd_prefix": "del ",
     "library": "var_list.py",
     "varRefreshCmd": "print(var_dic_list())"
    },
    "r": {
     "delete_cmd_postfix": ") ",
     "delete_cmd_prefix": "rm(",
     "library": "var_list.r",
     "varRefreshCmd": "cat(var_dic_list()) "
    }
   },
   "types_to_exclude": [
    "module",
    "function",
    "builtin_function_or_method",
    "instance",
    "_Feature"
   ],
   "window_display": false
  }
 },
 "nbformat": 4,
 "nbformat_minor": 2
}
