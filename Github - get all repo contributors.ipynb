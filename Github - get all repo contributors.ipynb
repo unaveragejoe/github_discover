{
 "cells": [
  {
   "cell_type": "code",
   "execution_count": 3,
   "metadata": {
    "ExecuteTime": {
     "end_time": "2019-03-25T18:16:18.226484Z",
     "start_time": "2019-03-25T18:16:18.218314Z"
    }
   },
   "outputs": [],
   "source": [
    "from github import Github\n",
    "import pickle\n",
    "import numpy as np\n",
    "import pandas as pd\n",
    "import pickle as pickle\n",
    "import pprint\n",
    "\n",
    "from fake_useragent import UserAgent\n",
    "import os\n",
    "import requests\n",
    "import time as time\n",
    "import re\n",
    "import random\n",
    "import json\n",
    "import urllib\n",
    "import math\n",
    "\n",
    "ua = UserAgent()\n",
    "\n",
    "# Add auth token\n",
    "g = Github(\"\")"
   ]
  },
  {
   "cell_type": "code",
   "execution_count": null,
   "metadata": {
    "ExecuteTime": {
     "end_time": "2019-03-21T17:41:59.491336Z",
     "start_time": "2019-03-21T17:41:59.035132Z"
    }
   },
   "outputs": [],
   "source": [
    "all_repos = pd.read_pickle('all_repos_concat_all.pkl')"
   ]
  },
  {
   "cell_type": "code",
   "execution_count": 2,
   "metadata": {
    "ExecuteTime": {
     "end_time": "2019-03-25T18:16:12.158636Z",
     "start_time": "2019-03-25T18:16:12.146386Z"
    }
   },
   "outputs": [
    {
     "ename": "NameError",
     "evalue": "name 'all_repos' is not defined",
     "output_type": "error",
     "traceback": [
      "\u001b[0;31m---------------------------------------------------------------------\u001b[0m",
      "\u001b[0;31mNameError\u001b[0m                           Traceback (most recent call last)",
      "\u001b[0;32m<ipython-input-2-afdc3f675303>\u001b[0m in \u001b[0;36m<module>\u001b[0;34m()\u001b[0m\n\u001b[0;32m----> 1\u001b[0;31m \u001b[0mall_repos\u001b[0m\u001b[0;34m[\u001b[0m\u001b[0;36m0\u001b[0m\u001b[0;34m]\u001b[0m\u001b[0;34m\u001b[0m\u001b[0;34m\u001b[0m\u001b[0m\n\u001b[0m",
      "\u001b[0;31mNameError\u001b[0m: name 'all_repos' is not defined"
     ]
    }
   ],
   "source": [
    "all_repos[0]"
   ]
  },
  {
   "cell_type": "code",
   "execution_count": null,
   "metadata": {
    "ExecuteTime": {
     "end_time": "2019-03-21T17:39:18.951519Z",
     "start_time": "2019-03-21T17:39:18.946218Z"
    }
   },
   "outputs": [],
   "source": [
    "contributor_data = {}\n",
    "# for x in all_repos:\n",
    "result = g."
   ]
  },
  {
   "cell_type": "code",
   "execution_count": 4,
   "metadata": {
    "ExecuteTime": {
     "end_time": "2019-03-25T18:16:22.156983Z",
     "start_time": "2019-03-25T18:16:21.945397Z"
    }
   },
   "outputs": [],
   "source": [
    "result = g.get_rate_limit()"
   ]
  },
  {
   "cell_type": "code",
   "execution_count": null,
   "metadata": {
    "ExecuteTime": {
     "end_time": "2019-03-21T17:39:25.284886Z",
     "start_time": "2019-03-21T17:39:25.266791Z"
    }
   },
   "outputs": [],
   "source": [
    "result.raw_data['search']['reset']"
   ]
  },
  {
   "cell_type": "code",
   "execution_count": null,
   "metadata": {
    "ExecuteTime": {
     "end_time": "2019-03-21T17:53:27.342559Z",
     "start_time": "2019-03-21T17:53:17.650Z"
    }
   },
   "outputs": [],
   "source": [
    "q = g.get_repo(all_repos[0]['id']).collaborators_url[:-15]\n",
    "# ['contributors_url']"
   ]
  },
  {
   "cell_type": "code",
   "execution_count": null,
   "metadata": {
    "ExecuteTime": {
     "end_time": "2019-03-21T18:16:36.900684Z",
     "start_time": "2019-03-21T18:16:36.892847Z"
    }
   },
   "outputs": [],
   "source": [
    "g.rate_limiting"
   ]
  },
  {
   "cell_type": "code",
   "execution_count": null,
   "metadata": {
    "ExecuteTime": {
     "end_time": "2019-03-21T18:10:54.959866Z",
     "start_time": "2019-03-21T18:10:54.954845Z"
    }
   },
   "outputs": [],
   "source": [
    "# add authorization token\n",
    "headers = {'authorization': ''}"
   ]
  },
  {
   "cell_type": "code",
   "execution_count": null,
   "metadata": {
    "ExecuteTime": {
     "end_time": "2019-03-21T18:14:38.073686Z",
     "start_time": "2019-03-21T18:14:38.065301Z"
    }
   },
   "outputs": [],
   "source": [
    "all_repos[0]['id']"
   ]
  },
  {
   "cell_type": "code",
   "execution_count": null,
   "metadata": {
    "ExecuteTime": {
     "end_time": "2019-03-21T18:15:24.594991Z",
     "start_time": "2019-03-21T18:15:24.589766Z"
    }
   },
   "outputs": [],
   "source": [
    "response = g.get_repo(all_repos[5]['id'], headers)"
   ]
  },
  {
   "cell_type": "code",
   "execution_count": null,
   "metadata": {
    "ExecuteTime": {
     "end_time": "2019-03-21T18:18:21.561139Z",
     "start_time": "2019-03-21T18:18:21.547367Z"
    }
   },
   "outputs": [],
   "source": [
    "response.get_contributors()"
   ]
  },
  {
   "cell_type": "code",
   "execution_count": null,
   "metadata": {
    "ExecuteTime": {
     "end_time": "2019-03-21T18:21:27.062464Z",
     "start_time": "2019-03-21T18:21:27.050553Z"
    }
   },
   "outputs": [],
   "source": [
    "def get_contributors(list_of_repos):\n",
    "# Add auth token\n",
    "    headers = {'authorization': ''}\n",
    "    contributors_dict = {}\n",
    "    \n",
    "#     z = g.get_rate_limit()\n",
    "#     reset_time = g.rate_limiting_resettime\n",
    "        \n",
    "    for idx, repo in enumerate(list_of_repos):\n",
    "\n",
    "        if g.rate_limiting[0] == 1 :\n",
    "            time.sleep(3600)\n",
    "#             z = g.get_rate_limit()\n",
    "            reset_time = g.rate_limiting_resettime\n",
    "        \n",
    "        headers = {'User-Agent': ua.random}\n",
    "  \n",
    "        repo_id = repo['id']\n",
    "    \n",
    "        try:\n",
    "            response = g.get_repo(repo['id'], headers).get_contributors()\n",
    "\n",
    "            contributors = list(response)\n",
    "            contributors_dict[idx] = { 'id': repo_id,\n",
    "                                 'contributors': contributors }\n",
    "            \n",
    "            print(str(idx / len(list_of_repos)) + '%' + '\\n')\n",
    "            print('Number of queries remaining-->', g.rate_limiting[0])\n",
    "            print(contributors_dict[idx])\n",
    "            \n",
    "            with open('contributors_dict.pkl', 'wb') as f:\n",
    "                pickle.dump(contributors_dict, f)\n",
    "            \n",
    "        except:\n",
    "            continue\n",
    "\n",
    "\n",
    "        with open('contributors_dict_final.pkl', 'wb') as f:\n",
    "            pickle.dump(contributors_dict, f)\n",
    "    return contributors_dict\n"
   ]
  },
  {
   "cell_type": "code",
   "execution_count": null,
   "metadata": {
    "ExecuteTime": {
     "end_time": "2019-03-22T03:24:41.694735Z",
     "start_time": "2019-03-21T18:21:28.049934Z"
    }
   },
   "outputs": [],
   "source": [
    "x = get_contributors(all_repos)"
   ]
  },
  {
   "cell_type": "code",
   "execution_count": null,
   "metadata": {
    "ExecuteTime": {
     "end_time": "2019-03-20T20:29:50.680903Z",
     "start_time": "2019-03-20T20:29:50.667554Z"
    }
   },
   "outputs": [],
   "source": [
    "x"
   ]
  },
  {
   "cell_type": "code",
   "execution_count": null,
   "metadata": {
    "ExecuteTime": {
     "end_time": "2019-03-20T20:37:01.684360Z",
     "start_time": "2019-03-20T20:37:01.675250Z"
    }
   },
   "outputs": [],
   "source": [
    "all_repos[10]"
   ]
  },
  {
   "cell_type": "code",
   "execution_count": null,
   "metadata": {
    "ExecuteTime": {
     "end_time": "2019-03-20T20:45:16.809743Z",
     "start_time": "2019-03-20T20:45:16.258151Z"
    }
   },
   "outputs": [],
   "source": [
    "v = g.get_repo(46443613).collaborators_url[:-15]"
   ]
  },
  {
   "cell_type": "code",
   "execution_count": null,
   "metadata": {
    "ExecuteTime": {
     "end_time": "2019-03-20T20:45:19.800797Z",
     "start_time": "2019-03-20T20:45:19.793567Z"
    }
   },
   "outputs": [],
   "source": [
    "v"
   ]
  },
  {
   "cell_type": "code",
   "execution_count": null,
   "metadata": {
    "ExecuteTime": {
     "end_time": "2019-03-20T20:46:14.103377Z",
     "start_time": "2019-03-20T20:46:13.528923Z"
    }
   },
   "outputs": [],
   "source": [
    "g = Github(\"\")\n",
    "\n",
    "headers = {'User-Agent': ua.random}\n",
    "\n",
    "response = requests.get(g.get_repo(46443613).collaborators_url[:-15], headers)"
   ]
  },
  {
   "cell_type": "code",
   "execution_count": null,
   "metadata": {
    "ExecuteTime": {
     "end_time": "2019-03-20T20:46:18.171787Z",
     "start_time": "2019-03-20T20:46:18.163700Z"
    }
   },
   "outputs": [],
   "source": [
    "response.text"
   ]
  },
  {
   "cell_type": "code",
   "execution_count": 23,
   "metadata": {
    "ExecuteTime": {
     "end_time": "2019-03-25T18:33:27.350629Z",
     "start_time": "2019-03-25T18:33:27.210449Z"
    }
   },
   "outputs": [],
   "source": [
    "me = g.get_user('unaveragejoe')"
   ]
  },
  {
   "cell_type": "code",
   "execution_count": 24,
   "metadata": {
    "ExecuteTime": {
     "end_time": "2019-03-25T18:33:28.104305Z",
     "start_time": "2019-03-25T18:33:28.100933Z"
    }
   },
   "outputs": [],
   "source": [
    "repos = me.get_repos()"
   ]
  },
  {
   "cell_type": "code",
   "execution_count": 28,
   "metadata": {
    "ExecuteTime": {
     "end_time": "2019-03-25T18:35:27.107741Z",
     "start_time": "2019-03-25T18:35:27.095399Z"
    }
   },
   "outputs": [
    {
     "name": "stdout",
     "output_type": "stream",
     "text": [
      "None\n",
      "None\n",
      "Metis Data Science Bootcamp - Official Prework Repository\n",
      "None\n",
      "None\n",
      "Exercism exercises in JavaScript.\n",
      "LeetCode problems in Python\n",
      "Chapter by Chapter notes, exercises and code for a variety of machine learning books using Python\n",
      "Solving problems using machine learning\n",
      "Natural language processing techniques for recommender systems\n",
      "None\n",
      "None\n",
      "100+ Python challenging programming exercises\n",
      "None\n",
      "None\n",
      "None\n",
      "None\n",
      "Text and supporting code for Think Stats, 2nd Edition\n",
      "None\n",
      "None\n",
      "None\n"
     ]
    }
   ],
   "source": [
    "for repo in repos:\n",
    "    print(repo.description)"
   ]
  },
  {
   "cell_type": "code",
   "execution_count": null,
   "metadata": {
    "ExecuteTime": {
     "end_time": "2019-03-25T18:31:11.516615Z",
     "start_time": "2019-03-25T18:31:11.472Z"
    }
   },
   "outputs": [],
   "source": [
    "me_1 = me.raw_data"
   ]
  },
  {
   "cell_type": "code",
   "execution_count": 13,
   "metadata": {
    "ExecuteTime": {
     "end_time": "2019-03-25T18:31:19.575680Z",
     "start_time": "2019-03-25T18:31:19.567430Z"
    }
   },
   "outputs": [
    {
     "data": {
      "text/plain": [
       "{'login': 'unaveragejoe',\n",
       " 'id': 18011210,\n",
       " 'node_id': 'MDQ6VXNlcjE4MDExMjEw',\n",
       " 'avatar_url': 'https://avatars3.githubusercontent.com/u/18011210?v=4',\n",
       " 'gravatar_id': '',\n",
       " 'url': 'https://api.github.com/users/unaveragejoe',\n",
       " 'html_url': 'https://github.com/unaveragejoe',\n",
       " 'followers_url': 'https://api.github.com/users/unaveragejoe/followers',\n",
       " 'following_url': 'https://api.github.com/users/unaveragejoe/following{/other_user}',\n",
       " 'gists_url': 'https://api.github.com/users/unaveragejoe/gists{/gist_id}',\n",
       " 'starred_url': 'https://api.github.com/users/unaveragejoe/starred{/owner}{/repo}',\n",
       " 'subscriptions_url': 'https://api.github.com/users/unaveragejoe/subscriptions',\n",
       " 'organizations_url': 'https://api.github.com/users/unaveragejoe/orgs',\n",
       " 'repos_url': 'https://api.github.com/users/unaveragejoe/repos',\n",
       " 'events_url': 'https://api.github.com/users/unaveragejoe/events{/privacy}',\n",
       " 'received_events_url': 'https://api.github.com/users/unaveragejoe/received_events',\n",
       " 'type': 'User',\n",
       " 'site_admin': False,\n",
       " 'name': 'Joseph Kholodenko',\n",
       " 'company': None,\n",
       " 'blog': '',\n",
       " 'location': None,\n",
       " 'email': None,\n",
       " 'hireable': None,\n",
       " 'bio': 'Always be coding!',\n",
       " 'public_repos': 21,\n",
       " 'public_gists': 0,\n",
       " 'followers': 0,\n",
       " 'following': 12,\n",
       " 'created_at': '2016-03-22T15:55:19Z',\n",
       " 'updated_at': '2019-03-05T20:50:21Z',\n",
       " 'private_gists': 2,\n",
       " 'total_private_repos': 15,\n",
       " 'owned_private_repos': 1,\n",
       " 'disk_usage': 1248,\n",
       " 'collaborators': 0,\n",
       " 'two_factor_authentication': False,\n",
       " 'plan': {'name': 'free',\n",
       "  'space': 976562499,\n",
       "  'collaborators': 0,\n",
       "  'private_repos': 10000}}"
      ]
     },
     "execution_count": 13,
     "metadata": {},
     "output_type": "execute_result"
    }
   ],
   "source": [
    "me_1."
   ]
  },
  {
   "cell_type": "code",
   "execution_count": 15,
   "metadata": {
    "ExecuteTime": {
     "end_time": "2019-03-25T18:31:48.807842Z",
     "start_time": "2019-03-25T18:31:48.804412Z"
    }
   },
   "outputs": [],
   "source": [
    "my_repos = g.get_repo(18011210)"
   ]
  },
  {
   "cell_type": "code",
   "execution_count": 19,
   "metadata": {
    "ExecuteTime": {
     "end_time": "2019-03-25T18:32:10.235871Z",
     "start_time": "2019-03-25T18:32:10.219629Z"
    }
   },
   "outputs": [
    {
     "ename": "TypeError",
     "evalue": "get_page() missing 1 required positional argument: 'page'",
     "output_type": "error",
     "traceback": [
      "\u001b[0;31m---------------------------------------------------------------------\u001b[0m",
      "\u001b[0;31mTypeError\u001b[0m                           Traceback (most recent call last)",
      "\u001b[0;32m<ipython-input-19-da137a64780f>\u001b[0m in \u001b[0;36m<module>\u001b[0;34m()\u001b[0m\n\u001b[0;32m----> 1\u001b[0;31m \u001b[0mlist\u001b[0m\u001b[0;34m(\u001b[0m\u001b[0mmy_repos\u001b[0m\u001b[0;34m.\u001b[0m\u001b[0mget_page\u001b[0m\u001b[0;34m(\u001b[0m\u001b[0;34m)\u001b[0m\u001b[0;34m)\u001b[0m\u001b[0;34m\u001b[0m\u001b[0;34m\u001b[0m\u001b[0m\n\u001b[0m",
      "\u001b[0;31mTypeError\u001b[0m: get_page() missing 1 required positional argument: 'page'"
     ]
    }
   ],
   "source": [
    "my_repos.get_page"
   ]
  },
  {
   "cell_type": "code",
   "execution_count": null,
   "metadata": {},
   "outputs": [],
   "source": []
  }
 ],
 "metadata": {
  "kernelspec": {
   "display_name": "Python 3",
   "language": "python",
   "name": "python3"
  },
  "language_info": {
   "codemirror_mode": {
    "name": "ipython",
    "version": 3
   },
   "file_extension": ".py",
   "mimetype": "text/x-python",
   "name": "python",
   "nbconvert_exporter": "python",
   "pygments_lexer": "ipython3",
   "version": "3.7.3"
  },
  "varInspector": {
   "cols": {
    "lenName": 16,
    "lenType": 16,
    "lenVar": 40
   },
   "kernels_config": {
    "python": {
     "delete_cmd_postfix": "",
     "delete_cmd_prefix": "del ",
     "library": "var_list.py",
     "varRefreshCmd": "print(var_dic_list())"
    },
    "r": {
     "delete_cmd_postfix": ") ",
     "delete_cmd_prefix": "rm(",
     "library": "var_list.r",
     "varRefreshCmd": "cat(var_dic_list()) "
    }
   },
   "types_to_exclude": [
    "module",
    "function",
    "builtin_function_or_method",
    "instance",
    "_Feature"
   ],
   "window_display": false
  }
 },
 "nbformat": 4,
 "nbformat_minor": 2
}
